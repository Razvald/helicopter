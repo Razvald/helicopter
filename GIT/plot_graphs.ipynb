{
 "cells": [
  {
   "cell_type": "code",
   "execution_count": 1,
   "metadata": {},
   "outputs": [],
   "source": [
    "import os\n",
    "import csv\n",
    "import cv2\n",
    "import json\n",
    "import math\n",
    "from time import time\n",
    "import matplotlib.pyplot as plt"
   ]
  },
  {
   "cell_type": "code",
   "execution_count": 2,
   "metadata": {},
   "outputs": [
    {
     "ename": "ModuleNotFoundError",
     "evalue": "No module named 'modules'",
     "output_type": "error",
     "traceback": [
      "\u001b[0;31m---------------------------------------------------------------------------\u001b[0m",
      "\u001b[0;31mModuleNotFoundError\u001b[0m                       Traceback (most recent call last)",
      "Cell \u001b[0;32mIn[2], line 1\u001b[0m\n\u001b[0;32m----> 1\u001b[0m \u001b[38;5;28;01mfrom\u001b[39;00m \u001b[38;5;21;01mvio_ort\u001b[39;00m \u001b[38;5;28;01mimport\u001b[39;00m VIO\n",
      "File \u001b[0;32m~/My_Folder/VS_Code/Code/GIT/vio_ort.py:9\u001b[0m\n\u001b[1;32m      6\u001b[0m \u001b[38;5;28;01mimport\u001b[39;00m \u001b[38;5;21;01mcv2\u001b[39;00m\n\u001b[1;32m      7\u001b[0m \u001b[38;5;28;01mfrom\u001b[39;00m \u001b[38;5;21;01mPIL\u001b[39;00m \u001b[38;5;28;01mimport\u001b[39;00m Image\n\u001b[0;32m----> 9\u001b[0m \u001b[38;5;28;01mfrom\u001b[39;00m \u001b[38;5;21;01mmodules\u001b[39;00m\u001b[38;5;21;01m.\u001b[39;00m\u001b[38;5;21;01mxfeat_ort\u001b[39;00m \u001b[38;5;28;01mimport\u001b[39;00m XFeat\n\u001b[1;32m     11\u001b[0m \u001b[38;5;28;01mfrom\u001b[39;00m \u001b[38;5;21;01mpymavlink\u001b[39;00m \u001b[38;5;28;01mimport\u001b[39;00m mavutil\n\u001b[1;32m     14\u001b[0m \u001b[38;5;28;01mwith\u001b[39;00m \u001b[38;5;28mopen\u001b[39m(\u001b[38;5;124m'\u001b[39m\u001b[38;5;124mfisheye_2024-09-18.json\u001b[39m\u001b[38;5;124m'\u001b[39m) \u001b[38;5;28;01mas\u001b[39;00m f:\n",
      "\u001b[0;31mModuleNotFoundError\u001b[0m: No module named 'modules'"
     ]
    }
   ],
   "source": [
    "from vio_ort import VIO"
   ]
  },
  {
   "cell_type": "code",
   "execution_count": null,
   "metadata": {},
   "outputs": [],
   "source": [
    "# Инициализация параметров\n",
    "odometry = VIO(lat0=54.889668, lon0=83.1258973333, alt0=0)\n",
    "odometry_org = VIO(lat0=54.889668, lon0=83.1258973333, alt0=0)\n",
    "set_dir = '2024_12_15_15_31_8_num_3'\n",
    "json_files = sorted([f for f in os.listdir(set_dir) if f.endswith('.json')])\n",
    "start = 1000\n",
    "count_json = 100"
   ]
  },
  {
   "cell_type": "code",
   "execution_count": null,
   "metadata": {},
   "outputs": [],
   "source": [
    "def run_vio(odometry, json_files, start, count_json):\n",
    "    lat_VIO, lon_VIO, alt_VIO = [], [], []\n",
    "    for filename in json_files[start:start + count_json]:\n",
    "        with open(f'{set_dir}/{filename}', 'r') as file:\n",
    "            data = json.load(file)\n",
    "            img_path = os.path.join(set_dir, os.path.splitext(filename)[0] + '.jpg')\n",
    "            image = cv2.imread(img_path)\n",
    "            result_vio = odometry.add_trace_pt(image, data)\n",
    "            lat_VIO.append(result_vio['lat'])\n",
    "            lon_VIO.append(result_vio['lon'])\n",
    "            alt_VIO.append(result_vio['alt'] * 1000)\n",
    "    return {\n",
    "        'lat_VIO': lat_VIO,\n",
    "        'lon_VIO': lon_VIO,\n",
    "        'alt_VIO': alt_VIO\n",
    "    }"
   ]
  },
  {
   "cell_type": "code",
   "execution_count": null,
   "metadata": {},
   "outputs": [],
   "source": [
    "def run_vio_gps(odometry, json_files, start, count_json):\n",
    "    lat_VIO, lon_VIO, alt_VIO = [], [], []\n",
    "    lat_GPS, lon_GPS, alt_GPS = [], [], []\n",
    "    for filename in json_files[start:start + count_json]:\n",
    "        with open(f'{set_dir}/{filename}', 'r') as file:\n",
    "            data = json.load(file)\n",
    "            if 'GNRMC' in data and data['GNRMC']['status'] == 'A':\n",
    "                img_path = os.path.join(set_dir, os.path.splitext(filename)[0] + '.jpg')\n",
    "                image = cv2.imread(img_path)\n",
    "                result_vio = odometry.add_trace_pt(image, data)\n",
    "                lat_VIO.append(result_vio['lat'])\n",
    "                lon_VIO.append(result_vio['lon'])\n",
    "                alt_VIO.append(result_vio['alt'] * 1000)\n",
    "                lat_GPS.append(data['GNRMC'].get('lat', 0.0))\n",
    "                lon_GPS.append(data['GNRMC'].get('lon', 0.0))\n",
    "                alt_GPS.append(data['GPS_RAW_INT']['alt'])\n",
    "    return {\n",
    "        'lat_VIO': lat_VIO,\n",
    "        'lon_VIO': lon_VIO,\n",
    "        'alt_VIO': alt_VIO,\n",
    "        'lat_GPS': lat_GPS,\n",
    "        'lon_GPS': lon_GPS,\n",
    "        'alt_GPS': alt_GPS,\n",
    "    }"
   ]
  },
  {
   "cell_type": "code",
   "execution_count": null,
   "metadata": {},
   "outputs": [],
   "source": [
    "def transform_vio_coords(vio_lon_list, vio_lat_list):\n",
    "    \"\"\"\n",
    "    Преобразование координат VIO в новые координаты.\n",
    "    \"\"\"\n",
    "    vio_lon0 = vio_lon_list[0]\n",
    "    vio_lat0 = vio_lat_list[0]\n",
    "\n",
    "    vio_lon_range = max(vio_lon_list) - min(vio_lon_list)\n",
    "    vio_lat_range = max(vio_lat_list) - min(vio_lat_list)\n",
    "\n",
    "    scale_for_lon = 1 / vio_lat_range  # Широта -> долгота\n",
    "    scale_for_lat = 1 / vio_lon_range  # Долгота -> широта\n",
    "\n",
    "    transformed_lon = [(v_lat - vio_lat0) * scale_for_lon + vio_lon0 for v_lat in vio_lat_list]\n",
    "    transformed_lat = [-(v_lon - vio_lon0) * scale_for_lat + vio_lat0 for v_lon in vio_lon_list]\n",
    "\n",
    "    return transformed_lon, transformed_lat"
   ]
  },
  {
   "cell_type": "code",
   "execution_count": null,
   "metadata": {},
   "outputs": [],
   "source": [
    "start_time = time()\n",
    "result = run_vio(odometry, json_files, start, count_json)\n",
    "elapsed_time = time() - start_time\n",
    "print(f\"Cache time: {elapsed_time:.2f} seconds\")"
   ]
  },
  {
   "cell_type": "code",
   "execution_count": null,
   "metadata": {},
   "outputs": [],
   "source": [
    "# Применяем трансформацию координат\n",
    "transformed_lon, transformed_lat = transform_vio_coords(result['lon_VIO'], result['lat_VIO'])\n",
    "\n",
    "# Обновляем результаты для построения графиков\n",
    "result['lon_VIO_transformed'] = transformed_lon\n",
    "result['lat_VIO_transformed'] = transformed_lat"
   ]
  },
  {
   "cell_type": "code",
   "execution_count": null,
   "metadata": {},
   "outputs": [],
   "source": [
    "# Функция для построения графика с GPS и VIO\n",
    "def plot_comparison(results):\n",
    "\tvio_lat = results['lat_VIO']\n",
    "\tvio_lon = results['lon_VIO']\n",
    "\n",
    "\tvio_lat_transf = results['lat_VIO_transformed']\n",
    "\tvio_lon_transf = results['lon_VIO_transformed']\n",
    "\n",
    "\t# Построение графиков широты\n",
    "\tplt.figure(figsize=(18, 6))\n",
    "\tplt.plot(vio_lat, vio_lon, linestyle='--')\n",
    "\tplt.plot(vio_lat_transf, vio_lon_transf, linestyle='-.')\n",
    "\tplt.legend()\n",
    "\n",
    "\tplt.tight_layout()\n",
    "\tplt.show()"
   ]
  },
  {
   "cell_type": "code",
   "execution_count": null,
   "metadata": {},
   "outputs": [],
   "source": [
    "plot_comparison(result)"
   ]
  }
 ],
 "metadata": {
  "kernelspec": {
   "display_name": "Python 3",
   "language": "python",
   "name": "python3"
  },
  "language_info": {
   "codemirror_mode": {
    "name": "ipython",
    "version": 3
   },
   "file_extension": ".py",
   "mimetype": "text/x-python",
   "name": "python",
   "nbconvert_exporter": "python",
   "pygments_lexer": "ipython3",
   "version": "3.12.3"
  }
 },
 "nbformat": 4,
 "nbformat_minor": 2
}
