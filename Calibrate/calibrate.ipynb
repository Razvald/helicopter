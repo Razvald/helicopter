{
 "cells": [
  {
   "cell_type": "code",
   "execution_count": 1,
   "metadata": {},
   "outputs": [],
   "source": [
    "import vio_ort\n",
    "import json\n",
    "import matplotlib.pyplot as plt\n",
    "import os\n",
    "import cv2\n",
    "import numpy as np\n",
    "from collections import defaultdict\n",
    "import concurrent.futures\n",
    "import threading"
   ]
  },
  {
   "cell_type": "code",
   "execution_count": 2,
   "metadata": {},
   "outputs": [],
   "source": [
    "lat_VIO = []\n",
    "lon_VIO = []\n",
    "\n",
    "odometry = vio_ort.VIO(lat0=54.889668, lon0=83.1258973333, alt0=0)\n",
    "\n",
    "# Путь к папке\n",
    "set_dir = '2025_1_16_15_43_35'\n",
    "set_dir = '2024_12_15_15_31_8_num_3'\n",
    "#TODO 2024_12_15_15_18_8_num_24 \n",
    "# 500 корректных значений, 1200 ошибок Missing GNRMC or VIO в json\n",
    "#TODO 2024_12_15_15_31_8_num_3 \n",
    "# 3000 корректных значений\n",
    "# значительные различия между GPS и VIO\n",
    "#TODO 2024_12_15_15_31_8_num_5 \n",
    "# 200 корректных значений, 700 ошибок Image not found\n",
    "\n",
    "# Получение всех файлов с расширением .json\n",
    "json_files = [f for f in os.listdir(set_dir) if f.endswith('.json')]\n",
    "\n",
    "# Сортировка файлов по имени\n",
    "json_files.sort()\n",
    "\n",
    "# start_json = \"1730798575417.json\"\n",
    "start = 30\n",
    "count_json = 600\n",
    "\n",
    "start = 1000\n",
    "count_json = 2\n",
    "\n",
    "\n",
    "lat_VIO = []\n",
    "lon_VIO = []\n",
    "\n",
    "lat_GPS = []\n",
    "lon_GPS = []"
   ]
  },
  {
   "cell_type": "code",
   "execution_count": 3,
   "metadata": {},
   "outputs": [],
   "source": [
    "# Инициализация структуры для ошибок\n",
    "fails_collect = defaultdict(lambda: {'num': 0, 'files': []})"
   ]
  },
  {
   "cell_type": "code",
   "execution_count": 4,
   "metadata": {},
   "outputs": [],
   "source": [
    "lock = threading.Lock()"
   ]
  },
  {
   "cell_type": "code",
   "execution_count": 5,
   "metadata": {},
   "outputs": [],
   "source": [
    "pos_timings_list = []"
   ]
  },
  {
   "cell_type": "code",
   "execution_count": 6,
   "metadata": {},
   "outputs": [],
   "source": [
    "def register_error(error_type, filename):\n",
    "    with lock:\n",
    "        if error_type not in fails_collect:\n",
    "            fails_collect[error_type] = {'num': 0, 'files': []}\n",
    "        fails_collect[error_type]['num'] += 1\n",
    "        fails_collect[error_type]['files'].append(filename)"
   ]
  },
  {
   "cell_type": "code",
   "execution_count": 7,
   "metadata": {},
   "outputs": [],
   "source": [
    "def process_file(filename):\n",
    "    try:\n",
    "        with open(f'{set_dir}/{filename}', 'r') as file:\n",
    "            data = json.load(file)\n",
    "\n",
    "        if 'GNRMC' not in data or 'VIO' not in data:\n",
    "            register_error(\"Missing GNRMC or VIO\", filename)\n",
    "            return\n",
    "\n",
    "        if data['GNRMC'].get('status') != 'A':\n",
    "            register_error(\"GNRMC status not 'A'\", filename)\n",
    "            return\n",
    "\n",
    "        img_path = f\"{set_dir}/{os.path.splitext(filename)[0]}.jpg\"\n",
    "        if not os.path.exists(img_path):\n",
    "            register_error(\"Image not found\", filename)\n",
    "            return\n",
    "\n",
    "        image = cv2.imread(img_path)\n",
    "        if image is None:\n",
    "            register_error(\"Failed to load image\", filename)\n",
    "            return\n",
    "\n",
    "        try:\n",
    "            with open(\"debug_output.txt\", \"a\") as f:\n",
    "                f.write(f\"[VIO] Attempting to add trace point for image: \\n{image}\\ndata: \\n{data}\\n\\n\\n\")\n",
    "            \n",
    "            result_vio = odometry.add_trace_pt(image, data)\n",
    "            \n",
    "            pos_timings = result_vio.get('pos_timings', {})\n",
    "            \n",
    "            if 'lat' not in result_vio or 'lon' not in result_vio:\n",
    "                with open(\"debug_output.txt\", \"a\") as f:\n",
    "                    f.write(f\"[VIO] Missing 'lat' or 'lon' in result: {result_vio}\\n\")\n",
    "                register_error(\"VIO result missing 'lat' or 'lon'\", filename)\n",
    "                return\n",
    "\n",
    "            with lock:\n",
    "                lat_VIO.append(result_vio['lat'])\n",
    "                lon_VIO.append(result_vio['lon'])\n",
    "                pos_timings_list.append(pos_timings)\n",
    "        except Exception as e:\n",
    "            with open(\"debug_output.txt\", \"a\") as f:\n",
    "                f.write(f\"[VIO] Error occurred: {str(e)}\\n\")\n",
    "            register_error(\"VIO processing error\", filename)\n",
    "            return\n",
    "\n",
    "        try:\n",
    "            with lock:\n",
    "                lat_GPS.append(data['GNRMC'].get('lat', 0.0))\n",
    "                lon_GPS.append(data['GNRMC'].get('lon', 0.0))\n",
    "        except KeyError:\n",
    "            register_error(\"GPS data missing\", filename)\n",
    "        \n",
    "    except json.JSONDecodeError:\n",
    "        register_error(\"JSON decode error\", filename)\n",
    "    except Exception:\n",
    "        register_error(\"Processing error\", filename)"
   ]
  },
  {
   "cell_type": "code",
   "execution_count": 8,
   "metadata": {},
   "outputs": [],
   "source": [
    "workers = 6"
   ]
  },
  {
   "cell_type": "code",
   "execution_count": 9,
   "metadata": {},
   "outputs": [],
   "source": [
    "with concurrent.futures.ThreadPoolExecutor(max_workers=workers) as executor:\n",
    "        executor.map(process_file, json_files[start:start + count_json])"
   ]
  },
  {
   "cell_type": "markdown",
   "metadata": {},
   "source": [
    "При 2 потоках уходит 4m2s"
   ]
  },
  {
   "cell_type": "markdown",
   "metadata": {},
   "source": [
    "При 4 потоках уходит 1m36s, 1m29s, 1m32s, 1m34s"
   ]
  },
  {
   "cell_type": "markdown",
   "metadata": {},
   "source": [
    "При 6 потоках уходит 1m27sб 1m25s, 1m31s, 1m31s"
   ]
  },
  {
   "cell_type": "markdown",
   "metadata": {},
   "source": [
    "При 8 потоках уходит 1m30s, 1m30s, 1m33s, 1m31s"
   ]
  },
  {
   "cell_type": "markdown",
   "metadata": {},
   "source": [
    "При 16 потоках уходит 2m1s"
   ]
  },
  {
   "cell_type": "markdown",
   "metadata": {},
   "source": [
    "При добавлении JIT-компиляции создает ошибку VIO processing error - 3300 occurrences\n",
    ", и на все уходит 55s, 54s, 56s"
   ]
  },
  {
   "cell_type": "markdown",
   "metadata": {},
   "source": [
    "При вынесении JIT-компиляции для отдельной функции, не содержащей сложные объекты, не поддерживаемые им, уходит 1m26s, 1m22s"
   ]
  },
  {
   "cell_type": "markdown",
   "metadata": {},
   "source": [
    "При использовании @jit вместо @njit, для избегания ошибок при неподдерживаемых функций, уходит 1m2s"
   ]
  },
  {
   "cell_type": "code",
   "execution_count": 10,
   "metadata": {},
   "outputs": [
    {
     "name": "stdout",
     "output_type": "stream",
     "text": [
      "\n",
      "Error Report:\n"
     ]
    }
   ],
   "source": [
    "# Вывод отчетности\n",
    "print(\"\\nError Report:\")\n",
    "for error_type, error_info in fails_collect.items():\n",
    "    print(f\"{error_type} - {error_info['num']} occurrences\")\n",
    "    print(f\"Files: {', '.join(error_info['files'])}\")\n",
    "    print()"
   ]
  },
  {
   "cell_type": "code",
   "execution_count": 11,
   "metadata": {},
   "outputs": [
    {
     "ename": "AttributeError",
     "evalue": "'NoneType' object has no attribute 'keys'",
     "output_type": "error",
     "traceback": [
      "\u001b[0;31m---------------------------------------------------------------------------\u001b[0m",
      "\u001b[0;31mAttributeError\u001b[0m                            Traceback (most recent call last)",
      "Cell \u001b[0;32mIn[11], line 4\u001b[0m\n\u001b[1;32m      2\u001b[0m average_timings \u001b[38;5;241m=\u001b[39m {}\n\u001b[1;32m      3\u001b[0m \u001b[38;5;28;01mif\u001b[39;00m pos_timings_list:\n\u001b[0;32m----> 4\u001b[0m     keys \u001b[38;5;241m=\u001b[39m \u001b[43mpos_timings_list\u001b[49m\u001b[43m[\u001b[49m\u001b[38;5;241;43m0\u001b[39;49m\u001b[43m]\u001b[49m\u001b[38;5;241;43m.\u001b[39;49m\u001b[43mkeys\u001b[49m()\n\u001b[1;32m      5\u001b[0m     \u001b[38;5;28;01mfor\u001b[39;00m key \u001b[38;5;129;01min\u001b[39;00m keys:\n\u001b[1;32m      6\u001b[0m         average_timings[key] \u001b[38;5;241m=\u001b[39m np\u001b[38;5;241m.\u001b[39mmean([pt[key] \u001b[38;5;28;01mfor\u001b[39;00m pt \u001b[38;5;129;01min\u001b[39;00m pos_timings_list \u001b[38;5;28;01mif\u001b[39;00m key \u001b[38;5;129;01min\u001b[39;00m pt])\n",
      "\u001b[0;31mAttributeError\u001b[0m: 'NoneType' object has no attribute 'keys'"
     ]
    }
   ],
   "source": [
    "# Предположим, pos_timings_list — это список словарей с замерами времени из calc_pos\n",
    "average_timings = {}\n",
    "if pos_timings_list:\n",
    "    keys = pos_timings_list[0].keys()\n",
    "    for key in keys:\n",
    "        average_timings[key] = np.mean([pt[key] for pt in pos_timings_list if key in pt])\n",
    "    print(\"Среднее время по этапам (calc_pos):\")\n",
    "    for key, value in average_timings.items():\n",
    "        print(f\"{key}: {value:.10f} секунд\")"
   ]
  },
  {
   "cell_type": "code",
   "execution_count": 12,
   "metadata": {},
   "outputs": [
    {
     "name": "stdout",
     "output_type": "stream",
     "text": [
      "GPS lat: 54.8894158333\n",
      "VIO lat: 54.889668001940805\n"
     ]
    }
   ],
   "source": [
    "print(f'GPS lat: {lat_GPS[0]}')\n",
    "print(f'VIO lat: {lat_VIO[0]}')"
   ]
  },
  {
   "cell_type": "code",
   "execution_count": 13,
   "metadata": {},
   "outputs": [
    {
     "name": "stdout",
     "output_type": "stream",
     "text": [
      "GPS lon: 83.1257365\n",
      "VIO lon: 83.12589733431201\n"
     ]
    }
   ],
   "source": [
    "print(f'GPS lon: {lon_GPS[0]}')\n",
    "print(f'VIO lon: {lon_VIO[0]}')"
   ]
  },
  {
   "cell_type": "code",
   "execution_count": 14,
   "metadata": {},
   "outputs": [
    {
     "name": "stdout",
     "output_type": "stream",
     "text": [
      "1\n",
      "1\n"
     ]
    }
   ],
   "source": [
    "print(len(lat_GPS))\n",
    "print(len(lat_VIO))"
   ]
  },
  {
   "cell_type": "code",
   "execution_count": 15,
   "metadata": {},
   "outputs": [
    {
     "data": {
      "text/plain": [
       "<Figure size 1000x500 with 1 Axes>"
      ]
     },
     "metadata": {},
     "output_type": "display_data"
    }
   ],
   "source": [
    "copy_lat_VIO = lat_VIO.copy()\n",
    "copy_lon_VIO = lon_VIO.copy()\n",
    "\n",
    "copy_lat_GPS = lat_GPS.copy()\n",
    "copy_lon_GPS = lon_GPS.copy()\n",
    "\n",
    "# Create figure and axis\n",
    "# Создаем фигуру и оси\n",
    "plt.figure(figsize=(10, 5))\n",
    "copy_lat_GPS = [ - x + 2 * 54.8894116667 for x in copy_lat_GPS]\n",
    "\n",
    "# Рисуем первый график\n",
    "plt.plot(copy_lon_GPS, copy_lat_GPS, label='GPS', color='blue')\n",
    "\n",
    "# Рисуем второй график\n",
    "plt.plot(copy_lon_VIO, copy_lat_VIO, label='VIO', color='red')\n",
    "\n",
    "# Добавляем заголовок и метки осей\n",
    "plt.title('Графики GPS и VIO')\n",
    "plt.xlabel('Longitude')\n",
    "plt.ylabel('Latitude')\n",
    "\n",
    "# Добавляем легенду\n",
    "plt.legend()\n",
    "\n",
    "# Display the plot\n",
    "plt.tight_layout()\n",
    "plt.show()"
   ]
  },
  {
   "cell_type": "code",
   "execution_count": 16,
   "metadata": {},
   "outputs": [
    {
     "data": {
      "text/plain": [
       "<Figure size 1000x500 with 1 Axes>"
      ]
     },
     "metadata": {},
     "output_type": "display_data"
    }
   ],
   "source": [
    "copy_lat_VIO = lat_VIO.copy()\n",
    "copy_lon_VIO = lon_VIO.copy()\n",
    "\n",
    "copy_lat_GPS = lat_GPS.copy()\n",
    "copy_lon_GPS = lon_VIO.copy()\n",
    "\n",
    "# Create figure and axis\n",
    "# Создаем фигуру и оси\n",
    "plt.figure(figsize=(10, 5))\n",
    "# copy_lat_GPS = [ - x + 2 * 54.8894116667 for x in copy_lat_GPS]\n",
    "\n",
    "# Рисуем первый график\n",
    "plt.plot(copy_lon_GPS, copy_lat_GPS, label='GPS', color='blue')\n",
    "\n",
    "# Рисуем второй график\n",
    "plt.plot(copy_lon_VIO, copy_lat_VIO, label='VIO', color='red')\n",
    "\n",
    "# Добавляем заголовок и метки осей\n",
    "plt.title('Графики GPS и VIO')\n",
    "plt.xlabel('Longitude')\n",
    "plt.ylabel('Latitude')\n",
    "\n",
    "# Добавляем легенду\n",
    "plt.legend()\n",
    "\n",
    "# Display the plot\n",
    "plt.tight_layout()\n",
    "plt.show()"
   ]
  }
 ],
 "metadata": {
  "kernelspec": {
   "display_name": "Python 3",
   "language": "python",
   "name": "python3"
  },
  "language_info": {
   "codemirror_mode": {
    "name": "ipython",
    "version": 3
   },
   "file_extension": ".py",
   "mimetype": "text/x-python",
   "name": "python",
   "nbconvert_exporter": "python",
   "pygments_lexer": "ipython3",
   "version": "3.12.3"
  }
 },
 "nbformat": 4,
 "nbformat_minor": 2
}
