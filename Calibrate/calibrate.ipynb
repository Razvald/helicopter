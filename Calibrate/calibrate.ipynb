{
 "cells": [
  {
   "cell_type": "code",
   "execution_count": 1,
   "metadata": {},
   "outputs": [],
   "source": [
    "import multiprocessing\n",
    "import threading\n",
    "import vio_ort\n",
    "import json\n",
    "import matplotlib.pyplot as plt\n",
    "import os\n",
    "import cv2\n",
    "import numpy as np"
   ]
  },
  {
   "cell_type": "code",
   "execution_count": 2,
   "metadata": {},
   "outputs": [],
   "source": [
    "odometry = vio_ort.VIO(lat0=54.889668, lon0=83.1258973333, alt0=0)\n",
    "\n",
    "# Путь к папке\n",
    "#set_dir = '2025_1_16_15_43_35'\n",
    "#set_dir = '2024_12_15_15_18_8_num_24'\n",
    "set_dir = '2024_12_15_15_31_8_num_3'\n",
    "#set_dir = '2024_12_15_15_31_8_num_5'\n",
    "\n",
    "# Получение всех файлов с расширением .json\n",
    "json_files = [f for f in os.listdir(set_dir) if f.endswith('.json')]\n",
    "\n",
    "# Сортировка файлов по имени\n",
    "json_files.sort()\n",
    "\n",
    "# start_json = \"1730798575417.json\"\n",
    "start = 30\n",
    "count_json = 600\n",
    "\n",
    "lat_VIO = []\n",
    "lon_VIO = []\n",
    "\n",
    "lat_GPS = []\n",
    "lon_GPS = []"
   ]
  },
  {
   "cell_type": "code",
   "execution_count": null,
   "metadata": {},
   "outputs": [],
   "source": [
    "# Код с потоковой оптимизацией\n",
    "def process_file_threaded(filename):\n",
    "    with open(f'{set_dir}/{filename}', 'r') as file:\n",
    "        data = json.load(file)\n",
    "        if 'GNRMC' in data and data['GNRMC']['status'] == 'A':\n",
    "            img_path = f'{set_dir}/{os.path.splitext(filename)[0]}.jpg'\n",
    "            \n",
    "            if not os.path.exists(img_path):\n",
    "                return\n",
    "            \n",
    "            image = cv2.imread(img_path)\n",
    "            if image is None:\n",
    "                return\n",
    "            \n",
    "            try:\n",
    "                result_vio = odometry.add_trace_pt(image, data)\n",
    "                with threading.Lock():\n",
    "                    lat_VIO.append(result_vio['lat'])\n",
    "                    lon_VIO.append(result_vio['lon'])\n",
    "                    lat_GPS.append(data['GNRMC']['lat'])\n",
    "                    lon_GPS.append(data['GNRMC']['lon'])\n",
    "                    # собираем время\n",
    "                    elapsed_times.append(result_vio['elapsed_time'])\n",
    "                    # собираем этапы\n",
    "                    all_timings.append(result_vio['timings'])\n",
    "            except Exception as e:\n",
    "                print(f\"Error processing {filename}: {e}\")\n",
    "\n",
    "# Запускаем обработку в потоках\n",
    "threads = []\n",
    "elapsed_times = []\n",
    "all_timings = []\n",
    "for filename in json_files[start:start + count_json]:\n",
    "    thread = threading.Thread(target=process_file_threaded, args=(filename,))\n",
    "    threads.append(thread)\n",
    "    thread.start()\n",
    "\n",
    "for thread in threads:\n",
    "    thread.join()"
   ]
  },
  {
   "cell_type": "code",
   "execution_count": null,
   "metadata": {},
   "outputs": [],
   "source": [
    "print(f\"Среднее время обработки одного файла: {np.mean(elapsed_times):.4f} секунд\")\n",
    "print(f\"Максимальное время обработки: {np.max(elapsed_times):.4f} секунд\")\n",
    "print(f\"Минимальное время обработки: {np.min(elapsed_times):.4f} секунд\")"
   ]
  },
  {
   "cell_type": "code",
   "execution_count": null,
   "metadata": {},
   "outputs": [],
   "source": [
    "# Анализ времени этапов\n",
    "average_timings = {key: np.mean([t[key] for t in all_timings]) for key in all_timings[0].keys()}\n",
    "print(\"Среднее время по этапам:\")\n",
    "for key, value in average_timings.items():\n",
    "    print(f\"{key}: {value:.4f} секунд\")"
   ]
  },
  {
   "cell_type": "code",
   "execution_count": null,
   "metadata": {},
   "outputs": [],
   "source": [
    "print(f'GPS lat: {lat_GPS[0]}')\n",
    "print(f'VIO lat: {lat_VIO[0]}')"
   ]
  },
  {
   "cell_type": "code",
   "execution_count": null,
   "metadata": {},
   "outputs": [],
   "source": [
    "print(f'GPS lon: {lon_GPS[0]}')\n",
    "print(f'VIO lon: {lon_VIO[0]}')"
   ]
  },
  {
   "cell_type": "code",
   "execution_count": null,
   "metadata": {},
   "outputs": [],
   "source": [
    "print(len(lat_GPS))\n",
    "print(len(lat_VIO))"
   ]
  },
  {
   "cell_type": "code",
   "execution_count": null,
   "metadata": {},
   "outputs": [],
   "source": [
    "copy_lat_VIO = lat_VIO.copy()\n",
    "copy_lon_VIO = lon_VIO.copy()\n",
    "\n",
    "copy_lat_GPS = lat_GPS.copy()\n",
    "copy_lon_GPS = lon_GPS.copy()\n",
    "\n",
    "# Create figure and axis\n",
    "# Создаем фигуру и оси\n",
    "plt.figure(figsize=(10, 5))\n",
    "copy_lat_GPS = [ - x + 2 * 54.8894116667 for x in copy_lat_GPS]\n",
    "\n",
    "# Рисуем первый график\n",
    "plt.plot(copy_lon_GPS, copy_lat_GPS, label='GPS', color='blue')\n",
    "\n",
    "# Рисуем второй график\n",
    "plt.plot(copy_lon_VIO, copy_lat_VIO, label='VIO', color='red')\n",
    "\n",
    "# Добавляем заголовок и метки осей\n",
    "plt.title('Графики GPS и VIO')\n",
    "plt.xlabel('Longitude')\n",
    "plt.ylabel('Latitude')\n",
    "\n",
    "# Добавляем легенду\n",
    "plt.legend()\n",
    "\n",
    "# Display the plot\n",
    "plt.tight_layout()\n",
    "plt.show()"
   ]
  },
  {
   "cell_type": "code",
   "execution_count": null,
   "metadata": {},
   "outputs": [],
   "source": [
    "copy_lat_VIO = lat_VIO.copy()\n",
    "copy_lon_VIO = lon_VIO.copy()\n",
    "\n",
    "copy_lat_GPS = lat_GPS.copy()\n",
    "copy_lon_GPS = lon_GPS.copy()\n",
    "\n",
    "# Create figure and axis\n",
    "# Создаем фигуру и оси\n",
    "plt.figure(figsize=(10, 5))\n",
    "# copy_lat_GPS = [ - x + 2 * 54.8894116667 for x in copy_lat_GPS]\n",
    "\n",
    "# Рисуем первый график\n",
    "plt.plot(copy_lon_GPS, copy_lat_GPS, label='GPS', color='blue')\n",
    "\n",
    "# Рисуем второй график\n",
    "plt.plot(copy_lon_VIO, copy_lat_VIO, label='VIO', color='red')\n",
    "\n",
    "# Добавляем заголовок и метки осей\n",
    "plt.title('Графики GPS и VIO')\n",
    "plt.xlabel('Longitude')\n",
    "plt.ylabel('Latitude')\n",
    "\n",
    "# Добавляем легенду\n",
    "plt.legend()\n",
    "\n",
    "# Display the plot\n",
    "plt.tight_layout()\n",
    "plt.show()"
   ]
  }
 ],
 "metadata": {
  "kernelspec": {
   "display_name": "Python 3",
   "language": "python",
   "name": "python3"
  },
  "language_info": {
   "codemirror_mode": {
    "name": "ipython",
    "version": 3
   },
   "file_extension": ".py",
   "mimetype": "text/x-python",
   "name": "python",
   "nbconvert_exporter": "python",
   "pygments_lexer": "ipython3",
   "version": "3.12.3"
  }
 },
 "nbformat": 4,
 "nbformat_minor": 2
}
