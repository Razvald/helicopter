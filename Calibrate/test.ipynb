{
 "cells": [
  {
   "cell_type": "code",
   "execution_count": null,
   "metadata": {},
   "outputs": [],
   "source": [
    "import os\n",
    "import csv\n",
    "import cv2\n",
    "import json\n",
    "import math\n",
    "from time import time\n",
    "from itertools import product"
   ]
  },
  {
   "cell_type": "code",
   "execution_count": null,
   "metadata": {},
   "outputs": [],
   "source": [
    "import vio_ort_exp as vio_ort"
   ]
  },
  {
   "cell_type": "code",
   "execution_count": null,
   "metadata": {},
   "outputs": [],
   "source": [
    "# Инициализация параметров\n",
    "odometry = vio_ort.VIO(lat0=54.889668, lon0=83.1258973333, alt0=0)\n",
    "set_dir = '2024_12_15_15_31_8_num_3'\n",
    "json_files = sorted([f for f in os.listdir(set_dir) if f.endswith('.json')])\n",
    "start = 1000\n",
    "count_json = 100"
   ]
  },
  {
   "cell_type": "code",
   "execution_count": null,
   "metadata": {},
   "outputs": [],
   "source": [
    "# Значения для параметров\n",
    "top_k_values = [512, 256]\n",
    "detection_threshold_values = [0.05, 0.01]\n",
    "max_iters_values = [None, 100, 300, 500]\n",
    "rotation_methods = [\"PIL\", \"CV2\"]\n",
    "trace_values = [8, 4]"
   ]
  },
  {
   "cell_type": "code",
   "execution_count": null,
   "metadata": {},
   "outputs": [],
   "source": [
    "# Генерация всех комбинаций\n",
    "parameters = [\n",
    "    {'top_k': top_k, 'detection_threshold': detection_threshold, 'maxIters': max_iters, 'rotation': rotation, 'trace': trace}\n",
    "    for top_k, detection_threshold, max_iters, rotation, trace in product(\n",
    "        top_k_values, detection_threshold_values, max_iters_values, rotation_methods, trace_values\n",
    "    )\n",
    "]"
   ]
  },
  {
   "cell_type": "code",
   "execution_count": null,
   "metadata": {},
   "outputs": [],
   "source": [
    "def run_vio(odometry, json_files, start, count_json, top_k, detection_threshold, maxIters, rotation, trace):\n",
    "    \"\"\"\n",
    "    Выполняет обработку данных с использованием заданных параметров.\n",
    "    \"\"\"\n",
    "    lat_VIO, lon_VIO, alt_VIO = [], [], []\n",
    "    lat_GPS, lon_GPS, alt_GPS = [], [], []\n",
    "\n",
    "    odometry._matcher.top_k = top_k\n",
    "    odometry._matcher.detection_threshold = detection_threshold\n",
    "    odometry.MAX_ITERS = maxIters\n",
    "    odometry.ROTATION = rotation\n",
    "    odometry.TRACE = trace\n",
    "\n",
    "    for filename in json_files[start:start + count_json]:\n",
    "        with open(f'{set_dir}/{filename}', 'r') as file:\n",
    "            data = json.load(file)\n",
    "            if 'GNRMC' in data and data['GNRMC']['status'] == 'A':\n",
    "                img_path = os.path.join(set_dir, os.path.splitext(filename)[0] + '.jpg')\n",
    "                image = cv2.imread(img_path)\n",
    "                result_vio = odometry.add_trace_pt(image, data)\n",
    "\n",
    "                lat_VIO.append(result_vio['lat'])\n",
    "                lon_VIO.append(result_vio['lon'])\n",
    "                alt_VIO.append(result_vio['alt'] * 1000)\n",
    "                lat_GPS.append(data['GNRMC'].get('lat', 0.0))\n",
    "                lon_GPS.append(data['GNRMC'].get('lon', 0.0))\n",
    "                alt_GPS.append(data['GPS_RAW_INT']['alt'])\n",
    "\n",
    "    return {\n",
    "        'lat_VIO': lat_VIO,\n",
    "        'lon_VIO': lon_VIO,\n",
    "        'alt_VIO': alt_VIO,\n",
    "        'lat_GPS': lat_GPS,\n",
    "        'lon_GPS': lon_GPS,\n",
    "        'alt_GPS': alt_GPS,\n",
    "    }"
   ]
  },
  {
   "cell_type": "code",
   "execution_count": null,
   "metadata": {},
   "outputs": [],
   "source": [
    "def haversine(lat1, lon1, lat2, lon2):\n",
    "    \"\"\"\n",
    "    Функция для вычисления расстояния между двумя точками на поверхности Земли.\n",
    "    \"\"\"\n",
    "    R = 6371000  # радиус Земли в метрах\n",
    "    phi1, phi2 = math.radians(lat1), math.radians(lat2)\n",
    "    dphi = math.radians(lat2 - lat1)\n",
    "    dlambda = math.radians(lon2 - lon1)\n",
    "\n",
    "    a = math.sin(dphi / 2) ** 2 + math.cos(phi1) * math.cos(phi2) * math.sin(dlambda / 2) ** 2\n",
    "    return R * 2 * math.atan2(math.sqrt(a), math.sqrt(1 - a))"
   ]
  },
  {
   "cell_type": "code",
   "execution_count": null,
   "metadata": {},
   "outputs": [],
   "source": [
    "def calculate_aggregated_metrics(results_optimized, results_original):\n",
    "    \"\"\"\n",
    "    Функция для вычисления агрегированных метрик (среднее, максимальное, минимальное расстояние, RMSE).\n",
    "    \"\"\"\n",
    "    metrics = {\n",
    "        \"Original VIO\": [],\n",
    "        \"Optimized VIO\": [],\n",
    "    }\n",
    "\n",
    "    for i in range(len(results_original['lat_GPS'])):\n",
    "        gps_lat, gps_lon = results_original['lat_GPS'][i], results_original['lon_GPS'][i]\n",
    "        org_lat, org_lon = results_original['lat_VIO'][i], results_original['lon_VIO'][i]\n",
    "        opt_lat, opt_lon = results_optimized['lat_VIO'][i], results_optimized['lon_VIO'][i]\n",
    "\n",
    "        metrics[\"Original VIO\"].append(haversine(gps_lat, gps_lon, org_lat, org_lon))\n",
    "        metrics[\"Optimized VIO\"].append(haversine(gps_lat, gps_lon, opt_lat, opt_lon))\n",
    "\n",
    "    aggregated = {\n",
    "        \"Metric\": [\"Mean Distance (m)\", \"Max Distance (m)\", \"Min Distance (m)\", \"RMSE (m)\"],\n",
    "    }\n",
    "\n",
    "    for key, distances in metrics.items():\n",
    "        mean_distance = sum(distances) / len(distances)\n",
    "        max_distance = max(distances)\n",
    "        min_distance = min(distances)\n",
    "        rmse = math.sqrt(sum(d ** 2 for d in distances) / len(distances))\n",
    "\n",
    "        aggregated[key] = [mean_distance, max_distance, min_distance, rmse]\n",
    "\n",
    "    return aggregated"
   ]
  },
  {
   "cell_type": "code",
   "execution_count": null,
   "metadata": {},
   "outputs": [],
   "source": [
    "def save_results_to_csv(results_all, filename):\n",
    "    \"\"\"\n",
    "    Сохраняет результаты эксперимента в CSV файл.\n",
    "    \"\"\"\n",
    "    with open(filename, mode='w', newline='') as f:\n",
    "        writer = csv.writer(f)\n",
    "        # Заголовок\n",
    "        writer.writerow([\"Top_k\", \"Detection Threshold\", \"Max Iters\", \"Rotation method\", \"Trace depth\", \"Time\", \"Mean Distance\", \"Max Distance\", \"RMSE\"])\n",
    "\n",
    "        # Данные\n",
    "        for result in results_all:\n",
    "            params = result['params']\n",
    "            optimized_metrics = calculate_aggregated_metrics(result['results'], result['results'])['Optimized VIO']\n",
    "\n",
    "            writer.writerow([\n",
    "                params['top_k'], params['detection_threshold'], params['maxIters'], params['rotation'], params['trace'],\n",
    "                result['time'],  # Используем 'time' как время выполнения\n",
    "                optimized_metrics[0],  # Mean Distance\n",
    "                optimized_metrics[1],  # Max Distance\n",
    "                optimized_metrics[3],  # RMSE\n",
    "            ])"
   ]
  },
  {
   "cell_type": "code",
   "execution_count": null,
   "metadata": {},
   "outputs": [],
   "source": [
    "# Запуск экспериментов с разными параметрами с выводом прогресса\n",
    "results_all = []\n",
    "total = len(parameters)\n",
    "for idx, params in enumerate(parameters):\n",
    "    print(f\"\\nRunning experiment {idx+1}/{total} with parameters: {params}\")\n",
    "    start_time = time()\n",
    "    results = run_vio(odometry, json_files, start, count_json, **params)\n",
    "    elapsed_time = time() - start_time\n",
    "    print(f\"Experiment {idx+1} completed in {elapsed_time:.2f} seconds.\")\n",
    "    \n",
    "    results_all.append({\n",
    "        'params': params,\n",
    "        'results': results,\n",
    "        'time': elapsed_time\n",
    "    })\n",
    "    \n",
    "    # Оценка оставшегося времени: если среднее время одного эксперимента равно elapsed_time,\n",
    "    # то оставшееся время = (total - idx - 1) * elapsed_time\n",
    "    remaining_time = (total - idx - 1) * elapsed_time\n",
    "    print(f\"Estimated remaining time: {remaining_time:.2f} seconds.\")\n",
    "\n",
    "# После цикла сохраняем результаты в CSV:\n",
    "save_results_to_csv(results_all, \"vio_results_comparison_1000.csv\")"
   ]
  },
  {
   "cell_type": "code",
   "execution_count": null,
   "metadata": {},
   "outputs": [],
   "source": [
    "# Сохраняем результаты в CSV\n",
    "save_results_to_csv(results_all, \"vio_results_comparison_100.csv\")"
   ]
  }
 ],
 "metadata": {
  "kernelspec": {
   "display_name": "Python 3",
   "language": "python",
   "name": "python3"
  },
  "language_info": {
   "codemirror_mode": {
    "name": "ipython",
    "version": 3
   },
   "file_extension": ".py",
   "mimetype": "text/x-python",
   "name": "python",
   "nbconvert_exporter": "python",
   "pygments_lexer": "ipython3",
   "version": "3.12.3"
  }
 },
 "nbformat": 4,
 "nbformat_minor": 2
}
