{
 "cells": [
  {
   "cell_type": "code",
   "execution_count": null,
   "metadata": {},
   "outputs": [],
   "source": [
    "# Импорты\n",
    "import os\n",
    "import csv\n",
    "import cv2\n",
    "import json\n",
    "import math\n",
    "import pandas as pd\n",
    "from time import time\n",
    "import seaborn as sns\n",
    "from tqdm import tqdm\n",
    "from itertools import product\n",
    "import matplotlib.pyplot as plt\n",
    "import vio_ort_exp as vio_ort"
   ]
  },
  {
   "cell_type": "code",
   "execution_count": null,
   "metadata": {},
   "outputs": [],
   "source": [
    "# Путь к директории с данными\n",
    "set_dir = '2024_12_15_15_31_8_num_3'"
   ]
  },
  {
   "cell_type": "code",
   "execution_count": null,
   "metadata": {},
   "outputs": [],
   "source": [
    "# Чтение JSON-файлов\n",
    "json_files = sorted([f for f in os.listdir(set_dir) if f.endswith('.json')])\n",
    "start = 0  # Индекс начала обработки\n",
    "count_json = len(json_files)  # Количество обрабатываемых файлов"
   ]
  },
  {
   "cell_type": "code",
   "execution_count": null,
   "metadata": {},
   "outputs": [],
   "source": [
    "# Инициализация визуальной инерциальной одометрии (VIO)\n",
    "odometry = vio_ort.VIO(lat0=54.889668, lon0=83.1258973333, alt0=0)"
   ]
  },
  {
   "cell_type": "code",
   "execution_count": null,
   "metadata": {},
   "outputs": [],
   "source": [
    "# Определение параметров для экспериментов\n",
    "top_k_values = [512, 256]  # Максимальное количество точек для сопоставления\n",
    "detection_threshold_values = [0.05, 0.01]  # Порог детектирования ключевых точек\n",
    "max_iters_values = [None, 100, 300, 500]  # Максимальное количество итераций оптимизации\n",
    "rotation_methods = [\"PIL\", \"CV2\"]  # Методы поворота изображений\n",
    "trace_values = [8, 4]  # Глубина трассировки"
   ]
  },
  {
   "cell_type": "code",
   "execution_count": null,
   "metadata": {},
   "outputs": [],
   "source": [
    "# Генерация всех возможных комбинаций параметров\n",
    "parameters = [\n",
    "    {'top_k': top_k, 'detection_threshold': detection_threshold, 'maxIters': max_iters, 'rotation': rotation, 'trace': trace}\n",
    "    for top_k, detection_threshold, max_iters, rotation, trace in product(\n",
    "        top_k_values, detection_threshold_values, max_iters_values, rotation_methods, trace_values\n",
    "    )\n",
    "]"
   ]
  },
  {
   "cell_type": "code",
   "execution_count": null,
   "metadata": {},
   "outputs": [],
   "source": [
    "def run_vio(odometry, json_files, start, count_json, top_k, detection_threshold, maxIters, rotation, trace, is_gps=True):\n",
    "    \"\"\"\n",
    "    Выполняет обработку данных VIO с заданными параметрами.\n",
    "    \n",
    "    Параметры:\n",
    "        odometry: Объект VIO.\n",
    "        json_files: Список JSON-файлов.\n",
    "        start: Индекс начала обработки.\n",
    "        count_json: Количество файлов для обработки.\n",
    "        top_k: Максимальное количество ключевых точек.\n",
    "        detection_threshold: Порог детектирования.\n",
    "        maxIters: Максимальное количество итераций.\n",
    "        rotation: Метод поворота изображения.\n",
    "        trace: Глубина трассировки.\n",
    "        is_gps: Флаг использования данных GPS.\n",
    "    \n",
    "    Возвращает:\n",
    "        Словарь с координатами VIO и GPS.\n",
    "    \"\"\"\n",
    "    lat_VIO, lon_VIO, alt_VIO = [], [], []\n",
    "    lat_GPS, lon_GPS, alt_GPS = [], [], []\n",
    "\n",
    "    odometry._matcher.top_k = top_k\n",
    "    odometry._matcher.detection_threshold = detection_threshold\n",
    "    odometry.MAX_ITERS = maxIters\n",
    "    odometry.ROTATION = rotation\n",
    "    odometry.TRACE = trace\n",
    "\n",
    "    for filename in json_files[start:start + count_json]:\n",
    "        with open(f'{set_dir}/{filename}', 'r') as file:\n",
    "            data = json.load(file)\n",
    "            if 'GNRMC' in data and data['GNRMC']['status'] == 'A':\n",
    "                img_path = os.path.join(set_dir, os.path.splitext(filename)[0] + '.jpg')\n",
    "                image = cv2.imread(img_path)\n",
    "                result_vio = odometry.add_trace_pt(image, data)\n",
    "\n",
    "                lat_VIO.append(result_vio['lat'])\n",
    "                lon_VIO.append(result_vio['lon'])\n",
    "                alt_VIO.append(result_vio['alt'] * 1000)\n",
    "                \n",
    "                if is_gps:\n",
    "                    lat_GPS.append(data['GNRMC'].get('lat', 0.0))\n",
    "                    lon_GPS.append(data['GNRMC'].get('lon', 0.0))\n",
    "                    alt_GPS.append(data['GPS_RAW_INT']['alt'])\n",
    "\n",
    "    return {\n",
    "        'lat_VIO': lat_VIO,\n",
    "        'lon_VIO': lon_VIO,\n",
    "        'alt_VIO': alt_VIO,\n",
    "        'lat_GPS': lat_GPS,\n",
    "        'lon_GPS': lon_GPS,\n",
    "        'alt_GPS': alt_GPS,\n",
    "    }"
   ]
  },
  {
   "cell_type": "code",
   "execution_count": null,
   "metadata": {},
   "outputs": [],
   "source": [
    "def haversine(lat1, lon1, lat2, lon2):\n",
    "    \"\"\"\n",
    "    Вычисляет расстояние между двумя точками на поверхности Земли.\n",
    "    \n",
    "    Параметры:\n",
    "        lat1, lon1: Координаты первой точки.\n",
    "        lat2, lon2: Координаты второй точки.\n",
    "    \n",
    "    Возвращает:\n",
    "        Расстояние в метрах.\n",
    "    \"\"\"\n",
    "    R = 6371000  # Радиус Земли в метрах\n",
    "    phi1, phi2 = math.radians(lat1), math.radians(lat2)\n",
    "    dphi = math.radians(lat2 - lat1)\n",
    "    dlambda = math.radians(lon2 - lon1)\n",
    "\n",
    "    a = math.sin(dphi / 2) ** 2 + math.cos(phi1) * math.cos(phi2) * math.sin(dlambda / 2) ** 2\n",
    "    return R * 2 * math.atan2(math.sqrt(a), math.sqrt(1 - a))"
   ]
  },
  {
   "cell_type": "code",
   "execution_count": null,
   "metadata": {},
   "outputs": [],
   "source": [
    "def calculate_aggregated_metrics(results):\n",
    "    \"\"\"\n",
    "    Рассчитывает агрегированные метрики (максимальное, минимальное расстояние, RMSE).\n",
    "    \n",
    "    Параметры:\n",
    "        results: Словарь с координатами VIO и GPS.\n",
    "    \n",
    "    Возвращает:\n",
    "        Словарь с метриками.\n",
    "    \"\"\"\n",
    "    metrics = {\"VIO\": []}\n",
    "\n",
    "    for i in range(len(results['lat_GPS'])):\n",
    "        gps_lat, gps_lon = results['lat_GPS'][i], results['lon_GPS'][i]\n",
    "        vio_lat, vio_lon = results['lat_VIO'][i], results['lon_VIO'][i]\n",
    "\n",
    "        metrics[\"VIO\"].append(haversine(gps_lat, gps_lon, vio_lat, vio_lon))\n",
    "\n",
    "    distances = metrics[\"VIO\"]\n",
    "    aggregated = {\n",
    "        \"Metric\": [\"Max Distance (m)\", \"Min Distance (m)\", \"RMSE (m)\"],\n",
    "        \"VIO\": [max(distances), min(distances), math.sqrt(sum(d ** 2 for d in distances) / len(distances))]\n",
    "    }\n",
    "\n",
    "    return aggregated"
   ]
  },
  {
   "cell_type": "code",
   "execution_count": null,
   "metadata": {},
   "outputs": [],
   "source": [
    "def save_results_to_csv(results_all, filename):\n",
    "    \"\"\"\n",
    "    Сохраняет результаты экспериментов в файл CSV.\n",
    "    \n",
    "    Параметры:\n",
    "        results_all: Список результатов экспериментов.\n",
    "        filename: Имя выходного CSV-файла.\n",
    "    \"\"\"\n",
    "    with open(filename, mode='w', newline='') as f:\n",
    "        writer = csv.writer(f)\n",
    "        writer.writerow([\"Top_k\", \"Detection Threshold\", \"Max Iters\", \"Rotation method\", \"Trace depth\", \"Max Distance\", \"Min Distance\", \"RMSE\"])\n",
    "\n",
    "        for result in results_all:\n",
    "            params = result['params']\n",
    "            metrics = calculate_aggregated_metrics(result['results'])['VIO']\n",
    "            writer.writerow([\n",
    "                params['top_k'], params['detection_threshold'], params['maxIters'] if params['maxIters'] is not None else 'None', params['rotation'], params['trace'],\n",
    "                metrics[0], metrics[1], metrics[2]\n",
    "            ])"
   ]
  },
  {
   "cell_type": "code",
   "execution_count": null,
   "metadata": {},
   "outputs": [],
   "source": [
    "# Запуск экспериментов\n",
    "results_all = []\n",
    "with tqdm(total=len(parameters), desc=\"Processing experiments\", unit=\"experiment\") as pbar:\n",
    "    for params in parameters:\n",
    "        start_time = time()\n",
    "        results = run_vio(odometry, json_files, start, count_json, **params)\n",
    "        results_all.append({'params': params, 'results': results})\n",
    "        pbar.update(1)"
   ]
  },
  {
   "cell_type": "code",
   "execution_count": null,
   "metadata": {},
   "outputs": [],
   "source": [
    "# Сохранение результатов\n",
    "save_results_to_csv(results_all, \"vio_parameters_comparison.csv\")"
   ]
  },
  {
   "cell_type": "code",
   "execution_count": null,
   "metadata": {},
   "outputs": [],
   "source": [
    "# Анализ и добавление FPS\n",
    "file_name = 'vio_parameters_comparison.csv'\n",
    "df = pd.read_csv(file_name)\n",
    "df['Max Iters'] = df['Max Iters'].fillna('None')\n",
    "df['Avg FPS'] = None\n",
    "\n",
    "for idx, row in df.iterrows():\n",
    "    print(f\"Parameter set #{idx + 1}/{len(df)}\")\n",
    "    fps_values = input(\"Enter FPS values (e.g., 5.3, 6.7): \")\n",
    "    fps_list = [float(fps) for fps in fps_values.split(',')]\n",
    "    df.at[idx, 'Avg FPS'] = sum(fps_list) / len(fps_list)\n",
    "\n",
    "df.drop(columns=['Time'], inplace=True)\n",
    "df.to_csv('vio_results_updated.csv', index=False)\n",
    "print(\"Results saved to 'vio_results_updated.csv'\")"
   ]
  },
  {
   "cell_type": "code",
   "execution_count": null,
   "metadata": {},
   "outputs": [],
   "source": [
    "# Чтение данных из файла CSV\n",
    "df = pd.read_csv('vio_results_updated.csv')"
   ]
  },
  {
   "cell_type": "code",
   "execution_count": null,
   "metadata": {},
   "outputs": [],
   "source": [
    "plt.figure(figsize=(12, 6))\n",
    "\n",
    "# График 1: Зависимость RMSE от Detection Threshold\n",
    "plt.subplot(1, 3, 1)\n",
    "sns.boxplot(data=df, x='Detection Threshold', y='RMSE', hue='Top_k', palette='viridis')\n",
    "plt.title('Влияние Detection Threshold на RMSE при различных Top_k')\n",
    "plt.xlabel('Detection Threshold')\n",
    "plt.ylabel('RMSE')\n",
    "plt.legend(title='Top_k')\n",
    "\n",
    "# График 2: Влияние Trace Depth\n",
    "plt.subplot(1, 3, 2)\n",
    "sns.barplot(data=df, x='Trace depth', y='RMSE', hue='Rotation method', ci=None, palette='magma')\n",
    "plt.title('Влияние Trace Depth на RMSE (по методам поворота)')\n",
    "plt.xlabel('Trace Depth')\n",
    "plt.ylabel('RMSE')\n",
    "plt.legend(title='Rotation Method')\n",
    "\n",
    "# График 3: Влияние Max Iters\n",
    "plt.subplot(1, 3, 3)\n",
    "sns.lineplot(data=df[df['Max Iters'] != 'None'], x='Max Iters', y='RMSE', hue='Detection Threshold', style='Top_k', markers=True, palette='coolwarm')\n",
    "plt.title('Влияние Max Iters на RMSE (по Detection Threshold)')\n",
    "plt.xlabel('Max Iters')\n",
    "plt.ylabel('RMSE')\n",
    "plt.legend(title='Detection Threshold / Top_k')\n",
    "\n",
    "plt.tight_layout()\n",
    "#plt.show()"
   ]
  },
  {
   "cell_type": "code",
   "execution_count": null,
   "metadata": {},
   "outputs": [],
   "source": [
    "# Поиск минимального значения RMSE\n",
    "min_rmse = df['RMSE'].min()\n",
    "\n",
    "# Устанавливаем порог RMSE (минимальный RMSE + N метр)\n",
    "threshold_rmse = min_rmse + 300\n",
    "\n",
    "# Фильтрация конфигураций с RMSE ≤ минимальное значение RMSE + N метр\n",
    "df_acceptable = df[df['RMSE'] <= threshold_rmse]\n",
    "\n",
    "# Если есть конфигурации с допустимой точностью\n",
    "if not df_acceptable.empty:\n",
    "    # Выбираем конфигурацию с максимальным FPS\n",
    "    best_acceptable = df_acceptable.loc[df_acceptable['Avg FPS'].idxmax()]\n",
    "    print(f\"Лучшая конфигурация с минимальным RMSE (добавлен {threshold_rmse - min_rmse} метр): \\n{best_acceptable}\")\n",
    "else:\n",
    "    # Если нет конфигураций с RMSE ≤ минимальное значение, то выбираем конфигурацию с максимальным FPS\n",
    "    best_overall = df.loc[df['Avg FPS'].idxmax()]\n",
    "    print(f\"Конфигурация с максимальным FPS (при RMSE > {threshold_rmse}): \\n{best_overall}\")"
   ]
  }
 ],
 "metadata": {
  "kernelspec": {
   "display_name": "Python 3",
   "language": "python",
   "name": "python3"
  },
  "language_info": {
   "codemirror_mode": {
    "name": "ipython",
    "version": 3
   },
   "file_extension": ".py",
   "mimetype": "text/x-python",
   "name": "python",
   "nbconvert_exporter": "python",
   "pygments_lexer": "ipython3",
   "version": "3.12.3"
  }
 },
 "nbformat": 4,
 "nbformat_minor": 2
}
