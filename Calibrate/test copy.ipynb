{
 "cells": [
  {
   "cell_type": "code",
   "execution_count": 1,
   "metadata": {},
   "outputs": [],
   "source": [
    "import os\n",
    "import csv\n",
    "import cv2\n",
    "import json\n",
    "import math\n",
    "from time import time\n",
    "from tqdm import tqdm\n",
    "from itertools import product\n",
    "import matplotlib.pyplot as plt\n",
    "import plotly.graph_objects as go"
   ]
  },
  {
   "cell_type": "code",
   "execution_count": 2,
   "metadata": {},
   "outputs": [],
   "source": [
    "import vio_ort_exp as vio_ort"
   ]
  },
  {
   "cell_type": "code",
   "execution_count": 3,
   "metadata": {},
   "outputs": [],
   "source": [
    "# Инициализация параметров\n",
    "odometry = vio_ort.VIO(lat0=54.889668, lon0=83.1258973333, alt0=0)\n",
    "set_dir = '2024_12_15_15_31_8_num_3'\n",
    "set_dir = '2025_3_14_11_42_57_num_4'\n",
    "\n",
    "json_files = sorted([f for f in os.listdir(set_dir) if f.endswith('.json')])\n",
    "start = 0\n",
    "count_json = len(json_files)"
   ]
  },
  {
   "cell_type": "code",
   "execution_count": 4,
   "metadata": {},
   "outputs": [],
   "source": [
    "# Значения для параметров\n",
    "top_k_values = [512, 256]\n",
    "detection_threshold_values = [0.05, 0.01]\n",
    "max_iters_values = [None, 100, 300, 500]\n",
    "rotation_methods = [\"PIL\", \"CV2\"]\n",
    "trace_values = [8, 4]"
   ]
  },
  {
   "cell_type": "code",
   "execution_count": 5,
   "metadata": {},
   "outputs": [
    {
     "data": {
      "text/plain": [
       "'# Значения для параметров\\ntop_k_values = [512]\\ndetection_threshold_values = [0.05]\\nmax_iters_values = [None, 100]\\nrotation_methods = [\"PIL\", \"CV2\"]\\ntrace_values = [4]'"
      ]
     },
     "execution_count": 5,
     "metadata": {},
     "output_type": "execute_result"
    }
   ],
   "source": [
    "\"\"\"# Значения для параметров\n",
    "top_k_values = [512]\n",
    "detection_threshold_values = [0.05]\n",
    "max_iters_values = [None, 100]\n",
    "rotation_methods = [\"PIL\", \"CV2\"]\n",
    "trace_values = [4]\"\"\""
   ]
  },
  {
   "cell_type": "code",
   "execution_count": 6,
   "metadata": {},
   "outputs": [],
   "source": [
    "# Генерация всех комбинаций\n",
    "parameters = [\n",
    "    {'top_k': top_k, 'detection_threshold': detection_threshold, 'maxIters': max_iters, 'rotation': rotation, 'trace': trace}\n",
    "    for top_k, detection_threshold, max_iters, rotation, trace in product(\n",
    "        top_k_values, detection_threshold_values, max_iters_values, rotation_methods, trace_values\n",
    "    )\n",
    "]"
   ]
  },
  {
   "cell_type": "code",
   "execution_count": 7,
   "metadata": {},
   "outputs": [],
   "source": [
    "def run_vio(odometry, json_files, start, count_json, top_k, detection_threshold, maxIters, rotation, trace):\n",
    "    \"\"\"\n",
    "    Выполняет обработку данных с использованием заданных параметров.\n",
    "    \"\"\"\n",
    "    lat_VIO, lon_VIO = [], []\n",
    "\n",
    "    odometry._matcher.top_k = top_k\n",
    "    odometry._matcher.detection_threshold = detection_threshold\n",
    "    odometry.MAX_ITERS = maxIters\n",
    "    odometry.ROTATION = rotation\n",
    "    odometry.TRACE = trace\n",
    "\n",
    "    for filename in json_files[start:start + count_json]:\n",
    "        with open(f'{set_dir}/{filename}', 'r') as file:\n",
    "            data = json.load(file)\n",
    "            img_path = os.path.join(set_dir, os.path.splitext(filename)[0] + '.jpg')\n",
    "            image = cv2.imread(img_path)\n",
    "            result_vio = odometry.add_trace_pt(image, data)\n",
    "\n",
    "            lat_VIO.append(result_vio['lat'])\n",
    "            lon_VIO.append(result_vio['lon'])\n",
    "\n",
    "    return {\n",
    "        'lat_VIO': lat_VIO,\n",
    "        'lon_VIO': lon_VIO,\n",
    "    }"
   ]
  },
  {
   "cell_type": "code",
   "execution_count": 8,
   "metadata": {},
   "outputs": [],
   "source": [
    "def haversine(lat1, lon1, lat2, lon2):\n",
    "    \"\"\"\n",
    "    Функция для вычисления расстояния между двумя точками на поверхности Земли.\n",
    "    \"\"\"\n",
    "    R = 6371000  # радиус Земли в метрах\n",
    "    phi1, phi2 = math.radians(lat1), math.radians(lat2)\n",
    "    dphi = math.radians(lat2 - lat1)\n",
    "    dlambda = math.radians(lon2 - lon1)\n",
    "\n",
    "    a = math.sin(dphi / 2) ** 2 + math.cos(phi1) * math.cos(phi2) * math.sin(dlambda / 2) ** 2\n",
    "    return R * 2 * math.atan2(math.sqrt(a), math.sqrt(1 - a))"
   ]
  },
  {
   "cell_type": "code",
   "execution_count": 9,
   "metadata": {},
   "outputs": [],
   "source": [
    "def calculate_aggregated_metrics(results):\n",
    "    \"\"\"\n",
    "    Функция для вычисления метрик траектории (среднее, максимальное, минимальное расстояние).\n",
    "    \"\"\"\n",
    "    metrics = []\n",
    "\n",
    "    for i in range(1, len(results['lat_VIO'])):\n",
    "        dist = haversine(\n",
    "            results['lat_VIO'][i - 1], results['lon_VIO'][i - 1],\n",
    "            results['lat_VIO'][i], results['lon_VIO'][i]\n",
    "        )\n",
    "        metrics.append(dist)\n",
    "\n",
    "    mean_distance = sum(metrics) / len(metrics)\n",
    "    max_distance = max(metrics)\n",
    "    min_distance = min(metrics)\n",
    "    rmse = math.sqrt(sum(d ** 2 for d in metrics) / len(metrics))\n",
    "\n",
    "    return {\n",
    "        \"Mean Distance\": mean_distance,\n",
    "        \"Max Distance\": max_distance,\n",
    "        \"Min Distance\": min_distance,\n",
    "        \"RMSE\": rmse,\n",
    "    }"
   ]
  },
  {
   "cell_type": "code",
   "execution_count": 10,
   "metadata": {},
   "outputs": [],
   "source": [
    "def save_results_to_csv(results_all, filename):\n",
    "    \"\"\"\n",
    "    Сохраняет результаты эксперимента в CSV файл.\n",
    "    \"\"\"\n",
    "    with open(filename, mode='w', newline='') as f:\n",
    "        writer = csv.writer(f)\n",
    "        # Заголовок\n",
    "        writer.writerow([\"Top_k\", \"Detection Threshold\", \"Max Iters\", \"Rotation method\", \"Trace depth\", \"Time\", \"Mean Distance\", \"Max Distance\", \"RMSE\"])\n",
    "\n",
    "        # Данные\n",
    "        for result in results_all:\n",
    "            params = result['params']\n",
    "            metrics = calculate_aggregated_metrics(result['results'])['VIO']\n",
    "\n",
    "            writer.writerow([\n",
    "                params['top_k'], params['detection_threshold'], params['maxIters'] if params['maxIters'] is not None else 'None', params['rotation'], params['trace'],\n",
    "                result['time'],\n",
    "                metrics[0],  # Mean Distance\n",
    "                metrics[1],  # Max Distance\n",
    "                metrics[3],  # RMSE\n",
    "            ])"
   ]
  },
  {
   "cell_type": "code",
   "execution_count": 11,
   "metadata": {},
   "outputs": [],
   "source": [
    "def transform_vio_coords(vio_lon_list, vio_lat_list):\n",
    "    \"\"\"\n",
    "    Преобразование координат VIO в новые координаты.\n",
    "    \"\"\"\n",
    "    vio_lon0 = vio_lon_list[0]\n",
    "    vio_lat0 = vio_lat_list[0]\n",
    "\n",
    "    vio_lon_range = max(vio_lon_list) - min(vio_lon_list)\n",
    "    vio_lat_range = max(vio_lat_list) - min(vio_lat_list)\n",
    "\n",
    "    scale_for_lon = 1 / vio_lat_range  # Широта -> долгота\n",
    "    scale_for_lat = 1 / vio_lon_range  # Долгота -> широта\n",
    "\n",
    "    transformed_lon = [(v_lat - vio_lat0) * scale_for_lon + vio_lon0 for v_lat in vio_lat_list]\n",
    "    transformed_lat = [-(v_lon - vio_lon0) * scale_for_lat + vio_lat0 for v_lon in vio_lon_list]\n",
    "\n",
    "    return transformed_lon, transformed_lat"
   ]
  },
  {
   "cell_type": "code",
   "execution_count": 16,
   "metadata": {},
   "outputs": [],
   "source": [
    "def save_trajectory_plot(results, params, output_dir):\n",
    "    \"\"\"\n",
    "    Функция для создания и сохранения графика траектории для VIO и GPS.\n",
    "    \"\"\"\n",
    "    lat_VIO = results['lat_VIO_transformed']\n",
    "    lon_VIO = results['lon_VIO_transformed']\n",
    "    \n",
    "    # Создаем название файла на основе параметров\n",
    "    filename = f\"top_k_{params['top_k']}_detection_{params['detection_threshold']}_maxIters_{params['maxIters']}_rotation_{params['rotation']}_trace_{params['trace']}.png\"\n",
    "    filepath = os.path.join(output_dir, filename)\n",
    "\n",
    "    # Построение графика\n",
    "    plt.figure(figsize=(10, 6))\n",
    "    plt.plot(lon_VIO, lat_VIO, label='VIO', color='blue', marker='x', markersize=2)\n",
    "    plt.title('Trajectory Comparison (GPS vs VIO)')\n",
    "    plt.xlabel('Longitude')\n",
    "    plt.ylabel('Latitude')\n",
    "    plt.legend()\n",
    "    plt.grid(True)\n",
    "\n",
    "    # Сохраняем график\n",
    "    plt.savefig(filepath)\n",
    "    plt.close()"
   ]
  },
  {
   "cell_type": "code",
   "execution_count": 20,
   "metadata": {},
   "outputs": [
    {
     "name": "stderr",
     "output_type": "stream",
     "text": [
      "Processing experiments: 100%|██████████| 64/64 [20:19<00:00, 19.05s/experiment, Last elapsed time=20.80s, Completed=64/64]\n"
     ]
    }
   ],
   "source": [
    "# Запуск экспериментов с разными параметрами с выводом прогресса\n",
    "results_all = []\n",
    "total = len(parameters)\n",
    "\n",
    "# Создаем прогресс-бар\n",
    "with tqdm(total=total, desc=\"Processing experiments\", unit=\"experiment\") as pbar:\n",
    "    for idx, params in enumerate(parameters):\n",
    "        start_time = time()\n",
    "        results = run_vio(odometry, json_files, start, count_json, **params)\n",
    "        elapsed_time = time() - start_time\n",
    "\n",
    "        # Сохраняем результаты эксперимента\n",
    "        results_all.append({\n",
    "            'params': params,\n",
    "            'results': results,\n",
    "            'time': elapsed_time\n",
    "        })\n",
    "\n",
    "        # Обновляем прогресс-бар\n",
    "        pbar.set_postfix({\n",
    "            \"Last elapsed time\": f\"{elapsed_time:.2f}s\",\n",
    "            \"Completed\": f\"{idx + 1}/{total}\"\n",
    "        })\n",
    "        pbar.update(1)"
   ]
  },
  {
   "cell_type": "code",
   "execution_count": 19,
   "metadata": {},
   "outputs": [],
   "source": [
    "# Применяем трансформацию и добавляем для каждого результата\n",
    "output_dir = 'output_graphs'  # Папка для сохранения графиков\n",
    "os.makedirs(output_dir, exist_ok=True)\n",
    "\n",
    "for result in results_all:\n",
    "    params = result['params']\n",
    "    \n",
    "    # Применяем трансформацию координат\n",
    "    transformed_lon, transformed_lat = transform_vio_coords(\n",
    "        result['results']['lon_VIO'], result['results']['lat_VIO']\n",
    "    )\n",
    "    \n",
    "    result['results']['lon_VIO_transformed'] = transformed_lon\n",
    "    result['results']['lat_VIO_transformed'] = transformed_lat\n",
    "\n",
    "    # Сохраняем график\n",
    "    save_trajectory_plot(result['results'], params, output_dir)"
   ]
  },
  {
   "cell_type": "code",
   "execution_count": null,
   "metadata": {},
   "outputs": [],
   "source": [
    "# После цикла сохраняем результаты в CSV:\n",
    "save_results_to_csv(results_all, \"vio_results_comparison_1000.csv\")"
   ]
  },
  {
   "cell_type": "code",
   "execution_count": null,
   "metadata": {},
   "outputs": [],
   "source": [
    "def compare_trajectories(results_all):\n",
    "    \"\"\"\n",
    "    Функция для сравнения траекторий между всеми возможными комбинациями параметров.\n",
    "    \"\"\"\n",
    "    comparisons = []\n",
    "\n",
    "    # Для каждой пары экспериментов\n",
    "    for i, result_1 in enumerate(results_all):\n",
    "        for j, result_2 in enumerate(results_all):\n",
    "            if i >= j:\n",
    "                continue  # Чтобы не сравнивать одинаковые эксперименты или дублировать\n",
    "\n",
    "            params_1 = result_1['params']\n",
    "            params_2 = result_2['params']\n",
    "\n",
    "            lat_VIO_1 = result_1['results']['lat_VIO_transformed']\n",
    "            lon_VIO_1 = result_1['results']['lon_VIO_transformed']\n",
    "\n",
    "            lat_VIO_2 = result_2['results']['lat_VIO_transformed']\n",
    "            lon_VIO_2 = result_2['results']['lon_VIO_transformed']\n",
    "\n",
    "            # Вычисление расстояния между точками для двух экспериментов (VIO vs GPS)\n",
    "            distances_VIO = [\n",
    "                haversine(lat_VIO_1[i], lon_VIO_1[i], lat_VIO_2[i], lon_VIO_2[i])\n",
    "                for i in range(len(lat_VIO_1))\n",
    "            ]\n",
    "\n",
    "            mean_distance_VIO = sum(distances_VIO) / len(distances_VIO)\n",
    "\n",
    "            # Время выполнения для каждого эксперимента\n",
    "            time_1 = result_1['time']\n",
    "            time_2 = result_2['time']\n",
    "\n",
    "            # Сравнение и сохранение результатов\n",
    "            comparisons.append({\n",
    "                'params_1': params_1,\n",
    "                'params_2': params_2,\n",
    "                'mean_distance_VIO': mean_distance_VIO,\n",
    "                'time_1': time_1,\n",
    "                'time_2': time_2\n",
    "            })\n",
    "\n",
    "    return comparisons"
   ]
  },
  {
   "cell_type": "code",
   "execution_count": null,
   "metadata": {},
   "outputs": [],
   "source": [
    "# Получаем все сравнения\n",
    "comparisons = compare_trajectories(results_all)"
   ]
  },
  {
   "cell_type": "code",
   "execution_count": null,
   "metadata": {},
   "outputs": [],
   "source": [
    "\"\"\"# Выводим и сохраняем результаты\n",
    "for comparison in comparisons:\n",
    "    print(f\"Comparing {comparison['params_1']} and {comparison['params_2']}:\")\n",
    "    print(f\"Mean Distance VIO: {comparison['mean_distance_VIO']:.2f} m\")\n",
    "    print(f\"Time 1: {comparison['time_1']:.2f} s, Time 2: {comparison['time_2']:.2f} s\")\n",
    "    print(\"-\" * 30)\"\"\""
   ]
  },
  {
   "cell_type": "code",
   "execution_count": null,
   "metadata": {},
   "outputs": [],
   "source": [
    "# Сохранить в CSV файл\n",
    "with open('trajectory_comparisons.csv', mode='w', newline='') as f:\n",
    "    writer = csv.writer(f)\n",
    "    writer.writerow(['Params 1', 'Params 2', 'Mean Distance VIO', 'Time 1', 'Time 2'])\n",
    "    for comparison in comparisons:\n",
    "        writer.writerow([\n",
    "            json.dumps(comparison['params_1']),\n",
    "            json.dumps(comparison['params_2']),\n",
    "            comparison['mean_distance_VIO'],\n",
    "            comparison['time_1'],\n",
    "            comparison['time_2']\n",
    "        ])"
   ]
  },
  {
   "cell_type": "code",
   "execution_count": null,
   "metadata": {},
   "outputs": [],
   "source": [
    "def create_interactive_trajectory_plot(results_all):\n",
    "    fig = go.Figure()\n",
    "\n",
    "    for result in results_all:\n",
    "        params = result['params']\n",
    "        lat_VIO = result['results']['lat_VIO_transformed']\n",
    "        lon_VIO = result['results']['lon_VIO_transformed']\n",
    "        \n",
    "        # Добавляем каждую траекторию как отдельную линию на графике\n",
    "        fig.add_trace(go.Scattergeo(\n",
    "            lon=lon_VIO,\n",
    "            lat=lat_VIO,\n",
    "            mode='lines',\n",
    "            name=f\"Params: {params['top_k']}, {params['detection_threshold']}\",\n",
    "        ))\n",
    "    \n",
    "    lat_GPS = results_all[0]['results']['lat_GPS']\n",
    "    lon_GPS = results_all[0]['results']['lon_GPS']\n",
    "\n",
    "    fig.add_trace(go.Scattergeo(\n",
    "            lon=lon_GPS,\n",
    "            lat=lat_GPS,\n",
    "            mode='lines',\n",
    "            name=\"GPS\",\n",
    "        ))\n",
    "\n",
    "    fig.update_layout(\n",
    "        title='Trajectory Comparison (VIO)',\n",
    "        geo=dict(\n",
    "            projection_type='mercator',\n",
    "            showland=True,\n",
    "            landcolor='rgb(255, 255, 255)',\n",
    "            lakecolor='rgb(255, 255, 255)',\n",
    "        ),\n",
    "        showlegend=True,\n",
    "    )\n",
    "\n",
    "    fig.show()\n"
   ]
  },
  {
   "cell_type": "code",
   "execution_count": null,
   "metadata": {},
   "outputs": [],
   "source": [
    "create_interactive_trajectory_plot(results_all)"
   ]
  },
  {
   "cell_type": "code",
   "execution_count": null,
   "metadata": {},
   "outputs": [],
   "source": [
    "lat_VIO = result['results']['lat_VIO_transformed']\n",
    "lon_VIO = result['results']['lon_VIO_transformed']\n",
    "print(f\"{lat_VIO[0]}, {lon_VIO[0]}\")\n",
    "print(f\"{lat_VIO[-1]}, {lon_VIO[-1]}\")\n"
   ]
  }
 ],
 "metadata": {
  "kernelspec": {
   "display_name": "Python 3",
   "language": "python",
   "name": "python3"
  },
  "language_info": {
   "codemirror_mode": {
    "name": "ipython",
    "version": 3
   },
   "file_extension": ".py",
   "mimetype": "text/x-python",
   "name": "python",
   "nbconvert_exporter": "python",
   "pygments_lexer": "ipython3",
   "version": "3.12.3"
  }
 },
 "nbformat": 4,
 "nbformat_minor": 2
}
