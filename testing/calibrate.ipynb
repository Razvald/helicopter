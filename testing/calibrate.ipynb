{
 "cells": [
  {
   "cell_type": "code",
   "execution_count": null,
   "metadata": {},
   "outputs": [],
   "source": [
    "import cv2\n",
    "img1 = cv2.imread('../Calibrate/2024_12_15_15_31_8_num_3/1734248113095.jpg', 0)\n",
    "img2 = cv2.imread('../Calibrate/2024_12_15_15_31_8_num_3/1734248113241.jpg', 0)\n",
    "\n",
    "orb = cv2.ORB_create()\n",
    "kp1, des1 = orb.detectAndCompute(img1, None)\n",
    "kp2, des2 = orb.detectAndCompute(img2, None)\n",
    "\n",
    "bf = cv2.BFMatcher(cv2.NORM_HAMMING, crossCheck=True)\n",
    "matches = bf.match(des1, des2)\n",
    "\n",
    "# Рисуем соответствия\n",
    "img_matches = cv2.drawMatches(img1, kp1, img2, kp2, matches, None)\n",
    "cv2.imshow(\"Matches\", img_matches)\n",
    "cv2.waitKey(0)\n",
    "cv2.destroyAllWindows()"
   ]
  },
  {
   "cell_type": "code",
   "execution_count": null,
   "metadata": {},
   "outputs": [],
   "source": [
    "import cv2\n",
    "import os\n",
    "\n",
    "# Укажи путь к папке с изображениями\n",
    "img_folder = '../Calibrate/2024_12_15_15_31_8_num_3'\n",
    "\n",
    "# Получаем список файлов с расширением .jpg и сортируем\n",
    "img_files = sorted([f for f in os.listdir(img_folder) if f.lower().endswith('.jpg')])\n",
    "\n",
    "# Инициализация ORB и BFMatcher\n",
    "orb = cv2.ORB_create()\n",
    "bf = cv2.BFMatcher(cv2.NORM_HAMMING, crossCheck=True)\n",
    "\n",
    "# Проходим по парам соседних изображений\n",
    "for i in range(len(img_files) - 1):\n",
    "    # Чтение двух последовательных изображений в режиме градаций серого\n",
    "    img1_path = os.path.join(img_folder, img_files[i])\n",
    "    img2_path = os.path.join(img_folder, img_files[i + 1])\n",
    "    \n",
    "    img1 = cv2.imread(img1_path, cv2.IMREAD_GRAYSCALE)\n",
    "    img2 = cv2.imread(img2_path, cv2.IMREAD_GRAYSCALE)\n",
    "    \n",
    "    # Если одно из изображений не загрузилось, пропускаем пару\n",
    "    if img1 is None or img2 is None:\n",
    "        continue\n",
    "    \n",
    "    # Вычисляем ключевые точки и дескрипторы для обеих картинок\n",
    "    kp1, des1 = orb.detectAndCompute(img1, None)\n",
    "    kp2, des2 = orb.detectAndCompute(img2, None)\n",
    "    \n",
    "    # Если дескрипторы не найдены, пропускаем пару\n",
    "    if des1 is None or des2 is None:\n",
    "        continue\n",
    "    \n",
    "    # Поиск соответствий между дескрипторами\n",
    "    matches = bf.match(des1, des2)\n",
    "    \n",
    "    # Сортируем найденные соответствия по расстоянию (чем меньше расстояние, тем лучше)\n",
    "    matches = sorted(matches, key=lambda x: x.distance)\n",
    "    \n",
    "    # Можно ограничить число отрисовываемых соответствий, например, первыми 20\n",
    "    num_matches_to_draw = 20\n",
    "    img_matches = cv2.drawMatches(img1, kp1, img2, kp2, matches[:num_matches_to_draw], None, flags=cv2.DrawMatchesFlags_NOT_DRAW_SINGLE_POINTS)\n",
    "    \n",
    "    # Отображаем результат\n",
    "    cv2.imshow(\"Matches\", img_matches)\n",
    "    \n",
    "    # Ожидаем нажатия клавиши. Если нажата клавиша Esc (код 27), выходим.\n",
    "    key = cv2.waitKey(0) & 0xFF\n",
    "    if key == 27:\n",
    "        break\n",
    "\n",
    "cv2.destroyAllWindows()\n"
   ]
  },
  {
   "cell_type": "markdown",
   "metadata": {},
   "source": []
  }
 ],
 "metadata": {
  "kernelspec": {
   "display_name": "Python 3",
   "language": "python",
   "name": "python3"
  },
  "language_info": {
   "codemirror_mode": {
    "name": "ipython",
    "version": 3
   },
   "file_extension": ".py",
   "mimetype": "text/x-python",
   "name": "python",
   "nbconvert_exporter": "python",
   "pygments_lexer": "ipython3",
   "version": "3.12.3"
  }
 },
 "nbformat": 4,
 "nbformat_minor": 2
}
